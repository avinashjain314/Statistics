{
 "cells": [
  {
   "cell_type": "code",
   "execution_count": 27,
   "metadata": {},
   "outputs": [],
   "source": [
    "\n",
    "import numpy as np\n",
    "import pandas as pd\n",
    "import matplotlib.pyplot as plt\n",
    "df=pd.read_csv(r\"SportCarPrice.csv\")"
   ]
  },
  {
   "cell_type": "code",
   "execution_count": 28,
   "metadata": {},
   "outputs": [
    {
     "name": "stdout",
     "output_type": "stream",
     "text": [
      "<class 'pandas.core.frame.DataFrame'>\n",
      "RangeIndex: 1007 entries, 0 to 1006\n",
      "Data columns (total 8 columns):\n",
      " #   Column                   Non-Null Count  Dtype \n",
      "---  ------                   --------------  ----- \n",
      " 0   Car Make                 1007 non-null   object\n",
      " 1   Car Model                1007 non-null   object\n",
      " 2   Year                     1007 non-null   int64 \n",
      " 3   Engine Size (L)          997 non-null    object\n",
      " 4   Horsepower               1007 non-null   object\n",
      " 5   Torque (lb-ft)           1004 non-null   object\n",
      " 6   0-60 MPH Time (seconds)  1007 non-null   object\n",
      " 7   Price (in USD)           1007 non-null   object\n",
      "dtypes: int64(1), object(7)\n",
      "memory usage: 63.1+ KB\n"
     ]
    }
   ],
   "source": [
    "df.info()"
   ]
  },
  {
   "cell_type": "code",
   "execution_count": 29,
   "metadata": {},
   "outputs": [
    {
     "data": {
      "text/plain": [
       "Car Make                    0\n",
       "Car Model                   0\n",
       "Year                        0\n",
       "Engine Size (L)            10\n",
       "Horsepower                  0\n",
       "Torque (lb-ft)              3\n",
       "0-60 MPH Time (seconds)     0\n",
       "Price (in USD)              0\n",
       "dtype: int64"
      ]
     },
     "execution_count": 29,
     "metadata": {},
     "output_type": "execute_result"
    }
   ],
   "source": [
    "df.isnull().sum()"
   ]
  },
  {
   "cell_type": "code",
   "execution_count": 30,
   "metadata": {},
   "outputs": [
    {
     "data": {
      "text/plain": [
       "array(['3', '5.2', '3.9', '4', '4.4', '6.2', '3.8', '8', '5', '3.5',\n",
       "       '4.7', '2', '2.9', '6', 'Electric', '6.5', '3.7', 'Electric Motor',\n",
       "       '2.5', '1.5 + Electric', '6.8', '8.4', nan, '6.6', '7', '1.7',\n",
       "       '3.3', '-', '6.7', '1.8', 'Electric (tri-motor)', '5.5',\n",
       "       'Electric (93 kWh)', 'Electric (100 kWh)', 'Hybrid (4.0)', '4.6',\n",
       "       '3.6', '1.5', 'Hybrid', '5.7', '2.0 (Electric)', '4.0 (Hybrid)',\n",
       "       '0', '6.4', '6.3', '2.3'], dtype=object)"
      ]
     },
     "execution_count": 30,
     "metadata": {},
     "output_type": "execute_result"
    }
   ],
   "source": [
    "df[\"Engine Size (L)\"].unique()"
   ]
  },
  {
   "cell_type": "code",
   "execution_count": 31,
   "metadata": {},
   "outputs": [
    {
     "name": "stderr",
     "output_type": "stream",
     "text": [
      "C:\\Users\\Hero\\AppData\\Local\\Temp\\ipykernel_15708\\3202064288.py:2: FutureWarning: The default value of regex will change from True to False in a future version. In addition, single character regular expressions will *not* be treated as literal strings when regex=True.\n",
      "  df[\"Horsepower\"]=df[\"Horsepower\"].str.replace(\"+\",\"\")\n"
     ]
    }
   ],
   "source": [
    "df[\"Horsepower\"]=df[\"Horsepower\"].str.replace(\",\",\"\")\n",
    "df[\"Horsepower\"]=df[\"Horsepower\"].str.replace(\"+\",\"\")\n",
    "df[\"Horsepower\"]=df[\"Horsepower\"].astype(int)"
   ]
  },
  {
   "cell_type": "code",
   "execution_count": 32,
   "metadata": {},
   "outputs": [
    {
     "name": "stderr",
     "output_type": "stream",
     "text": [
      "C:\\Users\\Hero\\AppData\\Local\\Temp\\ipykernel_15708\\1727543719.py:3: FutureWarning: The default value of regex will change from True to False in a future version. In addition, single character regular expressions will *not* be treated as literal strings when regex=True.\n",
      "  df[\"Torque (lb-ft)\"]=df[\"Torque (lb-ft)\"].str.replace(\"+\",\"\")\n"
     ]
    }
   ],
   "source": [
    "df[\"Torque (lb-ft)\"]=df[\"Torque (lb-ft)\"].replace(\"-\",np.nan)\n",
    "df[\"Torque (lb-ft)\"]=df[\"Torque (lb-ft)\"].str.replace(\",\",\"\")\n",
    "df[\"Torque (lb-ft)\"]=df[\"Torque (lb-ft)\"].str.replace(\"+\",\"\")"
   ]
  },
  {
   "cell_type": "code",
   "execution_count": 33,
   "metadata": {},
   "outputs": [],
   "source": [
    "df[\"Price (in USD)\"]=df[\"Price (in USD)\"].str.replace(\",\",\"\")\n",
    "df[\"Price (in USD)\"]=df[\"Price (in USD)\"].astype(int)"
   ]
  },
  {
   "cell_type": "code",
   "execution_count": 34,
   "metadata": {},
   "outputs": [
    {
     "name": "stdout",
     "output_type": "stream",
     "text": [
      "<class 'pandas.core.frame.DataFrame'>\n",
      "RangeIndex: 1007 entries, 0 to 1006\n",
      "Data columns (total 8 columns):\n",
      " #   Column                   Non-Null Count  Dtype \n",
      "---  ------                   --------------  ----- \n",
      " 0   Car Make                 1007 non-null   object\n",
      " 1   Car Model                1007 non-null   object\n",
      " 2   Year                     1007 non-null   int64 \n",
      " 3   Engine Size (L)          997 non-null    object\n",
      " 4   Horsepower               1007 non-null   int32 \n",
      " 5   Torque (lb-ft)           1003 non-null   object\n",
      " 6   0-60 MPH Time (seconds)  1007 non-null   object\n",
      " 7   Price (in USD)           1007 non-null   int32 \n",
      "dtypes: int32(2), int64(1), object(5)\n",
      "memory usage: 55.2+ KB\n"
     ]
    }
   ],
   "source": [
    "df.info()"
   ]
  },
  {
   "cell_type": "code",
   "execution_count": 35,
   "metadata": {},
   "outputs": [],
   "source": [
    "df[\"0-60 MPH Time (seconds)\"]=df[\"0-60 MPH Time (seconds)\"].str.replace(\"<\",\"\")\n",
    "df[\"0-60 MPH Time (seconds)\"]=df[\"0-60 MPH Time (seconds)\"].astype(float)"
   ]
  },
  {
   "cell_type": "code",
   "execution_count": 36,
   "metadata": {},
   "outputs": [
    {
     "data": {
      "text/plain": [
       "array(['3', '5.2', '3.9', '4', '4.4', '6.2', '3.8', '8', '5', '3.5',\n",
       "       '4.7', '2', '2.9', '6', 'Electric', '6.5', '3.7', 'Electric Motor',\n",
       "       '2.5', '1.5 + Electric', '6.8', '8.4', nan, '6.6', '7', '1.7',\n",
       "       '3.3', '-', '6.7', '1.8', 'Electric (tri-motor)', '5.5',\n",
       "       'Electric (93 kWh)', 'Electric (100 kWh)', 'Hybrid (4.0)', '4.6',\n",
       "       '3.6', '1.5', 'Hybrid', '5.7', '2.0 (Electric)', '4.0 (Hybrid)',\n",
       "       '0', '6.4', '6.3', '2.3'], dtype=object)"
      ]
     },
     "execution_count": 36,
     "metadata": {},
     "output_type": "execute_result"
    }
   ],
   "source": [
    "df[\"Engine Size (L)\"].unique()"
   ]
  },
  {
   "cell_type": "code",
   "execution_count": 41,
   "metadata": {},
   "outputs": [],
   "source": [
    "df[\"Engine Size (L)\"]=df[\"Engine Size (L)\"].replace(\"Electric\",2)\n",
    "df[\"Engine Size (L)\"]=df[\"Engine Size (L)\"].replace(\"Electric Motor\",2)\n",
    "df[\"Engine Size (L)\"]=df[\"Engine Size (L)\"].replace(\"Electric (tri-motor)\",2)\n",
    "df[\"Engine Size (L)\"]=df[\"Engine Size (L)\"].replace(\"1.5 + Electric\",2)\n",
    "df[\"Engine Size (L)\"]=df[\"Engine Size (L)\"].replace(\"Electric (93 kWh)\",2)\n",
    "df[\"Engine Size (L)\"]=df[\"Engine Size (L)\"].replace(\"Electric (100 kWh)\",2)\n",
    "df[\"Engine Size (L)\"]=df[\"Engine Size (L)\"].replace(\"2.0 (Electric)\",2)\n",
    "df[\"Engine Size (L)\"]=df[\"Engine Size (L)\"].replace(\"-\",2)\n",
    "df[\"Engine Size (L)\"]=df[\"Engine Size (L)\"].replace(\"Hybrid (4.0)\",4)\n",
    "df[\"Engine Size (L)\"]=df[\"Engine Size (L)\"].replace(\"Hybrid\",4)\n",
    "df[\"Engine Size (L)\"]=df[\"Engine Size (L)\"].replace(\"4.0 (Hybrid)\",4)"
   ]
  },
  {
   "cell_type": "code",
   "execution_count": 42,
   "metadata": {},
   "outputs": [],
   "source": [
    "df[\"Engine Size (L)\"]=df[\"Engine Size (L)\"].astype(float)"
   ]
  },
  {
   "cell_type": "code",
   "execution_count": 43,
   "metadata": {},
   "outputs": [
    {
     "data": {
      "text/plain": [
       "Car Make                    0\n",
       "Car Model                   0\n",
       "Year                        0\n",
       "Engine Size (L)            10\n",
       "Horsepower                  0\n",
       "Torque (lb-ft)              4\n",
       "0-60 MPH Time (seconds)     0\n",
       "Price (in USD)              0\n",
       "dtype: int64"
      ]
     },
     "execution_count": 43,
     "metadata": {},
     "output_type": "execute_result"
    }
   ],
   "source": [
    "df.isnull().sum()"
   ]
  },
  {
   "cell_type": "code",
   "execution_count": 44,
   "metadata": {},
   "outputs": [
    {
     "data": {
      "text/plain": [
       "array([  379,   630,   661,   562,   710,   617,   523,   490,   760,\n",
       "         600,  1500,   717,   296,  1280,   471,   416,   454,   300,\n",
       "         505,   320,   626,   671,   622,   720,  1914,   414,   759,\n",
       "         986,   591,   503,   650,   660,   350,   641,   611,   394,\n",
       "         612,   369,   603,   455,   460,   325,   349,   592,   444,\n",
       "         405,   797,   770,   332,   473,   480,   573,   380,  1600,\n",
       "         181,   620,   764,   624,  1000,   382,   800,   715,   690,\n",
       "         730,   469,   365,   401,   645,   435,  1020,   500,   780,\n",
       "         750,   402,   575,   729,   789,   577,   495,   237,   310,\n",
       "         791,  1874,   542,   368,   616,  1479,   755,   288,  1888,\n",
       "       10000,   482,  1973,  1262,  1035,   819,   385,   647,  1200,\n",
       "        1578,   625,   583,   429,   563,   400,   707,   887,  1972,\n",
       "         305,   640,   255,   689,   372,  2000,   550,   485,  1872,\n",
       "         621])"
      ]
     },
     "execution_count": 44,
     "metadata": {},
     "output_type": "execute_result"
    }
   ],
   "source": [
    "df[\"Horsepower\"].unique()"
   ]
  },
  {
   "cell_type": "code",
   "execution_count": 45,
   "metadata": {},
   "outputs": [
    {
     "data": {
      "text/plain": [
       "array([ 101200,  274390,  333750,  142700,  298000,  130000,  118500,\n",
       "         59900,   81000,  212000,  201495, 3000000,   61000,   70100,\n",
       "       2800000,   92950,  104450,  150000,   62000,   78000,   75000,\n",
       "        225000,  248000,  155000, 2400000,  100200,  517770,  625000,\n",
       "        117000,   72800,  222000,   64695,  500000,   45690,  104000,\n",
       "        218000,   57000,  210000,  148500,  132000,   58900,  518000,\n",
       "         56200,  192500,   71800,   68000,   42500,   39000,   46100,\n",
       "        142100,  105000,   87200,   52500,  241000,  103500,  146000,\n",
       "         75400,   42900,   78595,   62750,  417826,  150980,   30090,\n",
       "         88700,   67600,  274280,   52915,  218009,  159495,  142086,\n",
       "        219800,   74290,   71900,  134300,   26830,  213195,  221580,\n",
       "        100550,  330000,  200000,   43090, 1700000,   60500,  522000,\n",
       "         67000,  212500,   64000,   31015,  304995,  190000,  115000,\n",
       "         59000,  102100,  220300,  114000,  239100,   62500,   65290,\n",
       "        219750,  187700,  222004,   71350,   68900,  276550,   63700,\n",
       "         44000,   51720,   45790,   88550,  222620,   84595,   77500,\n",
       "        157500,  204100,  120000,   69900,  105950,  204550, 2700000,\n",
       "        102900, 1000000,  131190,  123500, 3400000,   61500,  507000,\n",
       "        109000,  228000,   42000,   45000,  185000,   56000,  191000,\n",
       "         81250,  517700,  242500,   77000,   76000,  103200,  177700,\n",
       "        417650,  115045,  256500,   59895,  152500,   69995,  363730,\n",
       "        183300,   73795,  183000,   60995,  207000,  203825,   99800,\n",
       "         67150,   77250,   71490,  150400,   47820,   38170,  102000,\n",
       "        393695,  218750,   40590,   52720,  174300,   67895,   62290,\n",
       "         93050,   75100,   64195,  211000,  275000, 2998000,  573966,\n",
       "       3500000, 2500000,   70000,   61600,   52200,  100450,  102550,\n",
       "         76400,   69000,  247500,   79900,  119000,  307820,  207825,\n",
       "        202500,   63000,   96950,  358000,   30000, 2600000,  180000,\n",
       "        131100,   82190,   76950,  132795,  215500,   80900,   40000,\n",
       "        209000,   67500,  104200,  133050,  196350,  338000,  218400,\n",
       "         73000,  104970,  132400,   71500,  118795,  240000,  221400,\n",
       "         64100,   81550,   62250,   92000,  141190,   64995,  126190,\n",
       "        205000,   75695, 2750000,  326050,  102500,   44500,   51000,\n",
       "       2300000, 3600000,  215000,   36120,  220000,  280000,  208800,\n",
       "        229000,   46200,   71000,  308000,   80500,  105900,  180800,\n",
       "         94000,   70900,   76450,  198950,   77950,  314500,  214425,\n",
       "        104400,  335550,  141990, 1550000,   65000,   63100,  140000,\n",
       "        325000,   80190,   68745,  139990, 5200000, 1500000,  460247,\n",
       "        110045,   77400,   46815,   85000,  162900,  245000,   74750,\n",
       "         70595,  203500,   47190,  222630,  208000,   96250,   25000,\n",
       "        103800,   48000,   93000,  346300, 3599000, 1050000,  186350,\n",
       "        205600,  201000,  340000,  101000,   43000,  305000,  204995,\n",
       "        243600,  113000,  161200,  310000, 1800000,  517000,  110000,\n",
       "        300000,  100000,  135000,   62195,   28000,  147500,  250000,\n",
       "         67800,  211300,  222500,   43995,  152995,  235000,  335000,\n",
       "         50000,   49000,   98395,  168000,   64500,   46000,  147000,\n",
       "        193000,  162000,   76700,   35000,  151000,   83250,   74700,\n",
       "         77600,  181100,  329100,   46610,   74000,   63995, 2900000,\n",
       "        201500,  332500,  198995,   72000,  254995,   60695,   64700,\n",
       "         99990,  150800,   88800,   76350,  202000,   96000,   33000,\n",
       "         75250,   99000,  149995,   37500,   38500,   71450,  134150,\n",
       "        171200,  321000,  100500,  195000,   78100,   78450, 3900000,\n",
       "       2000000,  254500,   27205])"
      ]
     },
     "execution_count": 45,
     "metadata": {},
     "output_type": "execute_result"
    }
   ],
   "source": [
    "df[\"Price (in USD)\"].unique()"
   ]
  },
  {
   "cell_type": "code",
   "execution_count": 47,
   "metadata": {},
   "outputs": [],
   "source": [
    "df[\"Price (in USD)\"]=df[\"Price (in USD)\"].replace(\",\",\"\")"
   ]
  },
  {
   "cell_type": "code",
   "execution_count": 48,
   "metadata": {},
   "outputs": [],
   "source": [
    "df[\"Price (in USD)\"]=df[\"Price (in USD)\"].astype(int)"
   ]
  },
  {
   "cell_type": "code",
   "execution_count": 51,
   "metadata": {},
   "outputs": [
    {
     "data": {
      "text/plain": [
       "array([4.  , 2.8 , 3.  , 3.2 , 2.7 , 3.1 , 3.8 , 3.5 , 2.5 , 2.4 , 5.4 ,\n",
       "       4.4 , 4.8 , 4.7 , 3.6 , 4.1 , 1.85, 4.5 , 3.3 , 3.9 , 4.2 , 3.4 ,\n",
       "       5.1 , 4.3 , 2.9 , 5.  , 5.3 , 4.9 , 6.5 , 3.7 , 1.95, 1.9 , 1.98,\n",
       "       2.6 , 2.3 , 4.6 , 1.8 , 2.1 , 5.2 , 2.2 , 6.4 , 2.  ])"
      ]
     },
     "execution_count": 51,
     "metadata": {},
     "output_type": "execute_result"
    }
   ],
   "source": [
    "df[\"0-60 MPH Time (seconds)\"].unique()"
   ]
  },
  {
   "cell_type": "code",
   "execution_count": 50,
   "metadata": {},
   "outputs": [],
   "source": [
    "df[\"0-60 MPH Time (seconds)\"]= df[\"0-60 MPH Time (seconds)\"].astype(float)"
   ]
  },
  {
   "cell_type": "code",
   "execution_count": 52,
   "metadata": {},
   "outputs": [
    {
     "data": {
      "text/plain": [
       "Car Make                    0\n",
       "Car Model                   0\n",
       "Year                        0\n",
       "Engine Size (L)            10\n",
       "Horsepower                  0\n",
       "Torque (lb-ft)              4\n",
       "0-60 MPH Time (seconds)     0\n",
       "Price (in USD)              0\n",
       "dtype: int64"
      ]
     },
     "execution_count": 52,
     "metadata": {},
     "output_type": "execute_result"
    }
   ],
   "source": [
    "df.isnull().sum()"
   ]
  },
  {
   "cell_type": "code",
   "execution_count": 53,
   "metadata": {},
   "outputs": [],
   "source": [
    "df=df.dropna()"
   ]
  },
  {
   "cell_type": "code",
   "execution_count": 54,
   "metadata": {},
   "outputs": [
    {
     "data": {
      "text/plain": [
       "Car Make                   0\n",
       "Car Model                  0\n",
       "Year                       0\n",
       "Engine Size (L)            0\n",
       "Horsepower                 0\n",
       "Torque (lb-ft)             0\n",
       "0-60 MPH Time (seconds)    0\n",
       "Price (in USD)             0\n",
       "dtype: int64"
      ]
     },
     "execution_count": 54,
     "metadata": {},
     "output_type": "execute_result"
    }
   ],
   "source": [
    "df.isnull().sum()"
   ]
  },
  {
   "cell_type": "code",
   "execution_count": 55,
   "metadata": {},
   "outputs": [],
   "source": [
    "df[\"Torque (lb-ft)\"]=df[\"Torque (lb-ft)\"].astype(int)"
   ]
  },
  {
   "cell_type": "code",
   "execution_count": 56,
   "metadata": {},
   "outputs": [
    {
     "data": {
      "text/html": [
       "<div>\n",
       "<style scoped>\n",
       "    .dataframe tbody tr th:only-of-type {\n",
       "        vertical-align: middle;\n",
       "    }\n",
       "\n",
       "    .dataframe tbody tr th {\n",
       "        vertical-align: top;\n",
       "    }\n",
       "\n",
       "    .dataframe thead th {\n",
       "        text-align: right;\n",
       "    }\n",
       "</style>\n",
       "<table border=\"1\" class=\"dataframe\">\n",
       "  <thead>\n",
       "    <tr style=\"text-align: right;\">\n",
       "      <th></th>\n",
       "      <th>Car Make</th>\n",
       "      <th>Car Model</th>\n",
       "      <th>Year</th>\n",
       "      <th>Engine Size (L)</th>\n",
       "      <th>Horsepower</th>\n",
       "      <th>Torque (lb-ft)</th>\n",
       "      <th>0-60 MPH Time (seconds)</th>\n",
       "      <th>Price (in USD)</th>\n",
       "    </tr>\n",
       "  </thead>\n",
       "  <tbody>\n",
       "    <tr>\n",
       "      <th>0</th>\n",
       "      <td>Porsche</td>\n",
       "      <td>911</td>\n",
       "      <td>2022</td>\n",
       "      <td>3.0</td>\n",
       "      <td>379</td>\n",
       "      <td>331</td>\n",
       "      <td>4.0</td>\n",
       "      <td>101200</td>\n",
       "    </tr>\n",
       "    <tr>\n",
       "      <th>1</th>\n",
       "      <td>Lamborghini</td>\n",
       "      <td>Huracan</td>\n",
       "      <td>2021</td>\n",
       "      <td>5.2</td>\n",
       "      <td>630</td>\n",
       "      <td>443</td>\n",
       "      <td>2.8</td>\n",
       "      <td>274390</td>\n",
       "    </tr>\n",
       "    <tr>\n",
       "      <th>2</th>\n",
       "      <td>Ferrari</td>\n",
       "      <td>488 GTB</td>\n",
       "      <td>2022</td>\n",
       "      <td>3.9</td>\n",
       "      <td>661</td>\n",
       "      <td>561</td>\n",
       "      <td>3.0</td>\n",
       "      <td>333750</td>\n",
       "    </tr>\n",
       "    <tr>\n",
       "      <th>3</th>\n",
       "      <td>Audi</td>\n",
       "      <td>R8</td>\n",
       "      <td>2022</td>\n",
       "      <td>5.2</td>\n",
       "      <td>562</td>\n",
       "      <td>406</td>\n",
       "      <td>3.2</td>\n",
       "      <td>142700</td>\n",
       "    </tr>\n",
       "    <tr>\n",
       "      <th>4</th>\n",
       "      <td>McLaren</td>\n",
       "      <td>720S</td>\n",
       "      <td>2021</td>\n",
       "      <td>4.0</td>\n",
       "      <td>710</td>\n",
       "      <td>568</td>\n",
       "      <td>2.7</td>\n",
       "      <td>298000</td>\n",
       "    </tr>\n",
       "  </tbody>\n",
       "</table>\n",
       "</div>"
      ],
      "text/plain": [
       "      Car Make Car Model  Year  Engine Size (L)  Horsepower  Torque (lb-ft)  \\\n",
       "0      Porsche       911  2022              3.0         379             331   \n",
       "1  Lamborghini   Huracan  2021              5.2         630             443   \n",
       "2      Ferrari   488 GTB  2022              3.9         661             561   \n",
       "3         Audi        R8  2022              5.2         562             406   \n",
       "4      McLaren      720S  2021              4.0         710             568   \n",
       "\n",
       "   0-60 MPH Time (seconds)  Price (in USD)  \n",
       "0                      4.0          101200  \n",
       "1                      2.8          274390  \n",
       "2                      3.0          333750  \n",
       "3                      3.2          142700  \n",
       "4                      2.7          298000  "
      ]
     },
     "execution_count": 56,
     "metadata": {},
     "output_type": "execute_result"
    }
   ],
   "source": [
    "df.head()"
   ]
  },
  {
   "cell_type": "code",
   "execution_count": 57,
   "metadata": {},
   "outputs": [
    {
     "name": "stdout",
     "output_type": "stream",
     "text": [
      "<class 'pandas.core.frame.DataFrame'>\n",
      "Int64Index: 994 entries, 0 to 1006\n",
      "Data columns (total 8 columns):\n",
      " #   Column                   Non-Null Count  Dtype  \n",
      "---  ------                   --------------  -----  \n",
      " 0   Car Make                 994 non-null    object \n",
      " 1   Car Model                994 non-null    object \n",
      " 2   Year                     994 non-null    int64  \n",
      " 3   Engine Size (L)          994 non-null    float64\n",
      " 4   Horsepower               994 non-null    int32  \n",
      " 5   Torque (lb-ft)           994 non-null    int32  \n",
      " 6   0-60 MPH Time (seconds)  994 non-null    float64\n",
      " 7   Price (in USD)           994 non-null    int32  \n",
      "dtypes: float64(2), int32(3), int64(1), object(2)\n",
      "memory usage: 58.2+ KB\n"
     ]
    }
   ],
   "source": [
    "df.info()"
   ]
  },
  {
   "cell_type": "code",
   "execution_count": 58,
   "metadata": {},
   "outputs": [],
   "source": [
    "df=df.drop_duplicates()"
   ]
  },
  {
   "cell_type": "code",
   "execution_count": 59,
   "metadata": {},
   "outputs": [
    {
     "data": {
      "text/plain": [
       "(702, 8)"
      ]
     },
     "execution_count": 59,
     "metadata": {},
     "output_type": "execute_result"
    }
   ],
   "source": [
    "df.shape"
   ]
  },
  {
   "cell_type": "code",
   "execution_count": 60,
   "metadata": {},
   "outputs": [
    {
     "data": {
      "text/html": [
       "<div>\n",
       "<style scoped>\n",
       "    .dataframe tbody tr th:only-of-type {\n",
       "        vertical-align: middle;\n",
       "    }\n",
       "\n",
       "    .dataframe tbody tr th {\n",
       "        vertical-align: top;\n",
       "    }\n",
       "\n",
       "    .dataframe thead th {\n",
       "        text-align: right;\n",
       "    }\n",
       "</style>\n",
       "<table border=\"1\" class=\"dataframe\">\n",
       "  <thead>\n",
       "    <tr style=\"text-align: right;\">\n",
       "      <th></th>\n",
       "      <th>Car Make</th>\n",
       "      <th>Car Model</th>\n",
       "      <th>Year</th>\n",
       "      <th>Engine Size (L)</th>\n",
       "      <th>Horsepower</th>\n",
       "      <th>Torque (lb-ft)</th>\n",
       "      <th>0-60 MPH Time (seconds)</th>\n",
       "      <th>Price (in USD)</th>\n",
       "    </tr>\n",
       "  </thead>\n",
       "  <tbody>\n",
       "    <tr>\n",
       "      <th>0</th>\n",
       "      <td>Porsche</td>\n",
       "      <td>911</td>\n",
       "      <td>2022</td>\n",
       "      <td>3.0</td>\n",
       "      <td>379</td>\n",
       "      <td>331</td>\n",
       "      <td>4.0</td>\n",
       "      <td>101200</td>\n",
       "    </tr>\n",
       "    <tr>\n",
       "      <th>1</th>\n",
       "      <td>Lamborghini</td>\n",
       "      <td>Huracan</td>\n",
       "      <td>2021</td>\n",
       "      <td>5.2</td>\n",
       "      <td>630</td>\n",
       "      <td>443</td>\n",
       "      <td>2.8</td>\n",
       "      <td>274390</td>\n",
       "    </tr>\n",
       "    <tr>\n",
       "      <th>2</th>\n",
       "      <td>Ferrari</td>\n",
       "      <td>488 GTB</td>\n",
       "      <td>2022</td>\n",
       "      <td>3.9</td>\n",
       "      <td>661</td>\n",
       "      <td>561</td>\n",
       "      <td>3.0</td>\n",
       "      <td>333750</td>\n",
       "    </tr>\n",
       "    <tr>\n",
       "      <th>3</th>\n",
       "      <td>Audi</td>\n",
       "      <td>R8</td>\n",
       "      <td>2022</td>\n",
       "      <td>5.2</td>\n",
       "      <td>562</td>\n",
       "      <td>406</td>\n",
       "      <td>3.2</td>\n",
       "      <td>142700</td>\n",
       "    </tr>\n",
       "    <tr>\n",
       "      <th>4</th>\n",
       "      <td>McLaren</td>\n",
       "      <td>720S</td>\n",
       "      <td>2021</td>\n",
       "      <td>4.0</td>\n",
       "      <td>710</td>\n",
       "      <td>568</td>\n",
       "      <td>2.7</td>\n",
       "      <td>298000</td>\n",
       "    </tr>\n",
       "  </tbody>\n",
       "</table>\n",
       "</div>"
      ],
      "text/plain": [
       "      Car Make Car Model  Year  Engine Size (L)  Horsepower  Torque (lb-ft)  \\\n",
       "0      Porsche       911  2022              3.0         379             331   \n",
       "1  Lamborghini   Huracan  2021              5.2         630             443   \n",
       "2      Ferrari   488 GTB  2022              3.9         661             561   \n",
       "3         Audi        R8  2022              5.2         562             406   \n",
       "4      McLaren      720S  2021              4.0         710             568   \n",
       "\n",
       "   0-60 MPH Time (seconds)  Price (in USD)  \n",
       "0                      4.0          101200  \n",
       "1                      2.8          274390  \n",
       "2                      3.0          333750  \n",
       "3                      3.2          142700  \n",
       "4                      2.7          298000  "
      ]
     },
     "execution_count": 60,
     "metadata": {},
     "output_type": "execute_result"
    }
   ],
   "source": [
    "df.head()"
   ]
  },
  {
   "cell_type": "code",
   "execution_count": 61,
   "metadata": {},
   "outputs": [
    {
     "data": {
      "text/plain": [
       "5200000"
      ]
     },
     "execution_count": 61,
     "metadata": {},
     "output_type": "execute_result"
    }
   ],
   "source": [
    "##Q1) What is the price of most expensive car and which brand makes it ?\n",
    "df[\"Price (in USD)\"].max()"
   ]
  },
  {
   "cell_type": "code",
   "execution_count": 62,
   "metadata": {},
   "outputs": [],
   "source": [
    "df=df.rename(columns={\"Price (in USD)\":\"Price\"})"
   ]
  },
  {
   "cell_type": "code",
   "execution_count": 63,
   "metadata": {},
   "outputs": [],
   "source": [
    "df1=df.query(\"Price == Price.max()\")"
   ]
  },
  {
   "cell_type": "code",
   "execution_count": 64,
   "metadata": {},
   "outputs": [
    {
     "data": {
      "text/html": [
       "<div>\n",
       "<style scoped>\n",
       "    .dataframe tbody tr th:only-of-type {\n",
       "        vertical-align: middle;\n",
       "    }\n",
       "\n",
       "    .dataframe tbody tr th {\n",
       "        vertical-align: top;\n",
       "    }\n",
       "\n",
       "    .dataframe thead th {\n",
       "        text-align: right;\n",
       "    }\n",
       "</style>\n",
       "<table border=\"1\" class=\"dataframe\">\n",
       "  <thead>\n",
       "    <tr style=\"text-align: right;\">\n",
       "      <th></th>\n",
       "      <th>Car Make</th>\n",
       "      <th>Car Model</th>\n",
       "      <th>Year</th>\n",
       "      <th>Engine Size (L)</th>\n",
       "      <th>Horsepower</th>\n",
       "      <th>Torque (lb-ft)</th>\n",
       "      <th>0-60 MPH Time (seconds)</th>\n",
       "      <th>Price</th>\n",
       "    </tr>\n",
       "  </thead>\n",
       "  <tbody>\n",
       "    <tr>\n",
       "      <th>541</th>\n",
       "      <td>Bugatti</td>\n",
       "      <td>Chiron Super Sport 300+</td>\n",
       "      <td>2022</td>\n",
       "      <td>8.0</td>\n",
       "      <td>1578</td>\n",
       "      <td>1180</td>\n",
       "      <td>2.3</td>\n",
       "      <td>5200000</td>\n",
       "    </tr>\n",
       "    <tr>\n",
       "      <th>823</th>\n",
       "      <td>Bugatti</td>\n",
       "      <td>Chiron Super Sport 300+</td>\n",
       "      <td>2021</td>\n",
       "      <td>8.0</td>\n",
       "      <td>1578</td>\n",
       "      <td>1180</td>\n",
       "      <td>2.4</td>\n",
       "      <td>5200000</td>\n",
       "    </tr>\n",
       "  </tbody>\n",
       "</table>\n",
       "</div>"
      ],
      "text/plain": [
       "    Car Make                Car Model  Year  Engine Size (L)  Horsepower  \\\n",
       "541  Bugatti  Chiron Super Sport 300+  2022              8.0        1578   \n",
       "823  Bugatti  Chiron Super Sport 300+  2021              8.0        1578   \n",
       "\n",
       "     Torque (lb-ft)  0-60 MPH Time (seconds)    Price  \n",
       "541            1180                      2.3  5200000  \n",
       "823            1180                      2.4  5200000  "
      ]
     },
     "execution_count": 64,
     "metadata": {},
     "output_type": "execute_result"
    }
   ],
   "source": [
    "df1.head()"
   ]
  },
  {
   "cell_type": "code",
   "execution_count": 68,
   "metadata": {},
   "outputs": [],
   "source": [
    "df20=df.query(\"`Car Make` == 'Bugatti'\")"
   ]
  },
  {
   "cell_type": "code",
   "execution_count": 71,
   "metadata": {},
   "outputs": [],
   "source": [
    "#2) Which brand gives the lowest power output from engine ?\n",
    "df2=df.query(\"Horsepower==Horsepower.min()\")"
   ]
  },
  {
   "cell_type": "code",
   "execution_count": 72,
   "metadata": {},
   "outputs": [
    {
     "data": {
      "text/html": [
       "<div>\n",
       "<style scoped>\n",
       "    .dataframe tbody tr th:only-of-type {\n",
       "        vertical-align: middle;\n",
       "    }\n",
       "\n",
       "    .dataframe tbody tr th {\n",
       "        vertical-align: top;\n",
       "    }\n",
       "\n",
       "    .dataframe thead th {\n",
       "        text-align: right;\n",
       "    }\n",
       "</style>\n",
       "<table border=\"1\" class=\"dataframe\">\n",
       "  <thead>\n",
       "    <tr style=\"text-align: right;\">\n",
       "      <th></th>\n",
       "      <th>Car Make</th>\n",
       "      <th>Car Model</th>\n",
       "      <th>Year</th>\n",
       "      <th>Engine Size (L)</th>\n",
       "      <th>Horsepower</th>\n",
       "      <th>Torque (lb-ft)</th>\n",
       "      <th>0-60 MPH Time (seconds)</th>\n",
       "      <th>Price</th>\n",
       "    </tr>\n",
       "  </thead>\n",
       "  <tbody>\n",
       "    <tr>\n",
       "      <th>92</th>\n",
       "      <td>Mazda</td>\n",
       "      <td>MX-5 Miata</td>\n",
       "      <td>2021</td>\n",
       "      <td>2.0</td>\n",
       "      <td>181</td>\n",
       "      <td>151</td>\n",
       "      <td>6.5</td>\n",
       "      <td>26830</td>\n",
       "    </tr>\n",
       "  </tbody>\n",
       "</table>\n",
       "</div>"
      ],
      "text/plain": [
       "   Car Make   Car Model  Year  Engine Size (L)  Horsepower  Torque (lb-ft)  \\\n",
       "92    Mazda  MX-5 Miata  2021              2.0         181             151   \n",
       "\n",
       "    0-60 MPH Time (seconds)  Price  \n",
       "92                      6.5  26830  "
      ]
     },
     "execution_count": 72,
     "metadata": {},
     "output_type": "execute_result"
    }
   ],
   "source": [
    "df2.head()"
   ]
  },
  {
   "cell_type": "code",
   "execution_count": 76,
   "metadata": {},
   "outputs": [
    {
     "data": {
      "text/html": [
       "<div>\n",
       "<style scoped>\n",
       "    .dataframe tbody tr th:only-of-type {\n",
       "        vertical-align: middle;\n",
       "    }\n",
       "\n",
       "    .dataframe tbody tr th {\n",
       "        vertical-align: top;\n",
       "    }\n",
       "\n",
       "    .dataframe thead th {\n",
       "        text-align: right;\n",
       "    }\n",
       "</style>\n",
       "<table border=\"1\" class=\"dataframe\">\n",
       "  <thead>\n",
       "    <tr style=\"text-align: right;\">\n",
       "      <th></th>\n",
       "      <th>Year</th>\n",
       "      <th>Engine Size (L)</th>\n",
       "      <th>Horsepower</th>\n",
       "      <th>Torque (lb-ft)</th>\n",
       "      <th>0-60 MPH Time (seconds)</th>\n",
       "      <th>Price</th>\n",
       "    </tr>\n",
       "  </thead>\n",
       "  <tbody>\n",
       "    <tr>\n",
       "      <th>Year</th>\n",
       "      <td>1.000000</td>\n",
       "      <td>-0.162311</td>\n",
       "      <td>0.024114</td>\n",
       "      <td>0.029054</td>\n",
       "      <td>-0.008437</td>\n",
       "      <td>-0.046786</td>\n",
       "    </tr>\n",
       "    <tr>\n",
       "      <th>Engine Size (L)</th>\n",
       "      <td>-0.162311</td>\n",
       "      <td>1.000000</td>\n",
       "      <td>0.064018</td>\n",
       "      <td>0.002926</td>\n",
       "      <td>-0.211754</td>\n",
       "      <td>0.245226</td>\n",
       "    </tr>\n",
       "    <tr>\n",
       "      <th>Horsepower</th>\n",
       "      <td>0.024114</td>\n",
       "      <td>0.064018</td>\n",
       "      <td>1.000000</td>\n",
       "      <td>0.709581</td>\n",
       "      <td>-0.533712</td>\n",
       "      <td>0.490672</td>\n",
       "    </tr>\n",
       "    <tr>\n",
       "      <th>Torque (lb-ft)</th>\n",
       "      <td>0.029054</td>\n",
       "      <td>0.002926</td>\n",
       "      <td>0.709581</td>\n",
       "      <td>1.000000</td>\n",
       "      <td>-0.444860</td>\n",
       "      <td>0.335040</td>\n",
       "    </tr>\n",
       "    <tr>\n",
       "      <th>0-60 MPH Time (seconds)</th>\n",
       "      <td>-0.008437</td>\n",
       "      <td>-0.211754</td>\n",
       "      <td>-0.533712</td>\n",
       "      <td>-0.444860</td>\n",
       "      <td>1.000000</td>\n",
       "      <td>-0.495575</td>\n",
       "    </tr>\n",
       "    <tr>\n",
       "      <th>Price</th>\n",
       "      <td>-0.046786</td>\n",
       "      <td>0.245226</td>\n",
       "      <td>0.490672</td>\n",
       "      <td>0.335040</td>\n",
       "      <td>-0.495575</td>\n",
       "      <td>1.000000</td>\n",
       "    </tr>\n",
       "  </tbody>\n",
       "</table>\n",
       "</div>"
      ],
      "text/plain": [
       "                             Year  Engine Size (L)  Horsepower  \\\n",
       "Year                     1.000000        -0.162311    0.024114   \n",
       "Engine Size (L)         -0.162311         1.000000    0.064018   \n",
       "Horsepower               0.024114         0.064018    1.000000   \n",
       "Torque (lb-ft)           0.029054         0.002926    0.709581   \n",
       "0-60 MPH Time (seconds) -0.008437        -0.211754   -0.533712   \n",
       "Price                   -0.046786         0.245226    0.490672   \n",
       "\n",
       "                         Torque (lb-ft)  0-60 MPH Time (seconds)     Price  \n",
       "Year                           0.029054                -0.008437 -0.046786  \n",
       "Engine Size (L)                0.002926                -0.211754  0.245226  \n",
       "Horsepower                     0.709581                -0.533712  0.490672  \n",
       "Torque (lb-ft)                 1.000000                -0.444860  0.335040  \n",
       "0-60 MPH Time (seconds)       -0.444860                 1.000000 -0.495575  \n",
       "Price                          0.335040                -0.495575  1.000000  "
      ]
     },
     "execution_count": 76,
     "metadata": {},
     "output_type": "execute_result"
    }
   ],
   "source": [
    "#3) Is Horsepower dependent on Torque ?\n",
    "df.corr()"
   ]
  },
  {
   "cell_type": "code",
   "execution_count": 69,
   "metadata": {},
   "outputs": [
    {
     "data": {
      "text/html": [
       "<div>\n",
       "<style scoped>\n",
       "    .dataframe tbody tr th:only-of-type {\n",
       "        vertical-align: middle;\n",
       "    }\n",
       "\n",
       "    .dataframe tbody tr th {\n",
       "        vertical-align: top;\n",
       "    }\n",
       "\n",
       "    .dataframe thead th {\n",
       "        text-align: right;\n",
       "    }\n",
       "</style>\n",
       "<table border=\"1\" class=\"dataframe\">\n",
       "  <thead>\n",
       "    <tr style=\"text-align: right;\">\n",
       "      <th></th>\n",
       "      <th>Car Make</th>\n",
       "      <th>Car Model</th>\n",
       "      <th>Year</th>\n",
       "      <th>Engine Size (L)</th>\n",
       "      <th>Horsepower</th>\n",
       "      <th>Torque (lb-ft)</th>\n",
       "      <th>0-60 MPH Time (seconds)</th>\n",
       "      <th>Price</th>\n",
       "    </tr>\n",
       "  </thead>\n",
       "  <tbody>\n",
       "    <tr>\n",
       "      <th>11</th>\n",
       "      <td>Bugatti</td>\n",
       "      <td>Chiron</td>\n",
       "      <td>2021</td>\n",
       "      <td>8.0</td>\n",
       "      <td>1500</td>\n",
       "      <td>1180</td>\n",
       "      <td>2.4</td>\n",
       "      <td>3000000</td>\n",
       "    </tr>\n",
       "    <tr>\n",
       "      <th>85</th>\n",
       "      <td>Bugatti</td>\n",
       "      <td>Chiron</td>\n",
       "      <td>2022</td>\n",
       "      <td>8.0</td>\n",
       "      <td>1500</td>\n",
       "      <td>1180</td>\n",
       "      <td>2.4</td>\n",
       "      <td>3000000</td>\n",
       "    </tr>\n",
       "    <tr>\n",
       "      <th>206</th>\n",
       "      <td>Bugatti</td>\n",
       "      <td>Chiron</td>\n",
       "      <td>2021</td>\n",
       "      <td>8.0</td>\n",
       "      <td>1500</td>\n",
       "      <td>1180</td>\n",
       "      <td>2.3</td>\n",
       "      <td>3000000</td>\n",
       "    </tr>\n",
       "    <tr>\n",
       "      <th>274</th>\n",
       "      <td>Bugatti</td>\n",
       "      <td>Chiron</td>\n",
       "      <td>2021</td>\n",
       "      <td>8.0</td>\n",
       "      <td>1500</td>\n",
       "      <td>1180</td>\n",
       "      <td>2.4</td>\n",
       "      <td>2998000</td>\n",
       "    </tr>\n",
       "    <tr>\n",
       "      <th>303</th>\n",
       "      <td>Bugatti</td>\n",
       "      <td>Chiron</td>\n",
       "      <td>2021</td>\n",
       "      <td>8.0</td>\n",
       "      <td>1479</td>\n",
       "      <td>1180</td>\n",
       "      <td>2.3</td>\n",
       "      <td>2998000</td>\n",
       "    </tr>\n",
       "  </tbody>\n",
       "</table>\n",
       "</div>"
      ],
      "text/plain": [
       "    Car Make Car Model  Year  Engine Size (L)  Horsepower  Torque (lb-ft)  \\\n",
       "11   Bugatti    Chiron  2021              8.0        1500            1180   \n",
       "85   Bugatti    Chiron  2022              8.0        1500            1180   \n",
       "206  Bugatti    Chiron  2021              8.0        1500            1180   \n",
       "274  Bugatti    Chiron  2021              8.0        1500            1180   \n",
       "303  Bugatti    Chiron  2021              8.0        1479            1180   \n",
       "\n",
       "     0-60 MPH Time (seconds)    Price  \n",
       "11                       2.4  3000000  \n",
       "85                       2.4  3000000  \n",
       "206                      2.3  3000000  \n",
       "274                      2.4  2998000  \n",
       "303                      2.3  2998000  "
      ]
     },
     "execution_count": 69,
     "metadata": {},
     "output_type": "execute_result"
    }
   ],
   "source": [
    "df20.head()"
   ]
  },
  {
   "cell_type": "code",
   "execution_count": 77,
   "metadata": {},
   "outputs": [
    {
     "name": "stdout",
     "output_type": "stream",
     "text": [
      "0.7095810639663238 1.5766891317993526e-108\n"
     ]
    }
   ],
   "source": [
    "import scipy.stats as stats\n",
    "corr, p_value=stats.pearsonr(df[\"Horsepower\"],df[\"Torque (lb-ft)\"])\n",
    "print(corr,p_value)\n"
   ]
  },
  {
   "cell_type": "code",
   "execution_count": null,
   "metadata": {},
   "outputs": [],
   "source": [
    "#Here the correlation is 0.7095 and it is a strong +ve correlation.\n",
    "#The pvalue < 0.05 (Correlation is statistically significant)\n",
    "#There is a strong relationship between horsepower and Torque.\n",
    "#reject the null hypothesis, (no correlation)\n"
   ]
  },
  {
   "cell_type": "code",
   "execution_count": null,
   "metadata": {},
   "outputs": [],
   "source": [
    "#Q4) Is the mean price of sports cars that takes time to accelerate from 2 to 4 seconds\n",
    "#is the same as that for those cars that accelerates for 4 to 6 seconds ?#"
   ]
  },
  {
   "cell_type": "code",
   "execution_count": 81,
   "metadata": {},
   "outputs": [],
   "source": [
    "df3=df[(df[\"0-60 MPH Time (seconds)\"]>=2) & (df[\"0-60 MPH Time (seconds)\"]<=4)]"
   ]
  },
  {
   "cell_type": "code",
   "execution_count": 84,
   "metadata": {},
   "outputs": [
    {
     "data": {
      "text/plain": [
       "431432.376953125"
      ]
     },
     "execution_count": 84,
     "metadata": {},
     "output_type": "execute_result"
    }
   ],
   "source": [
    "df3[\"Price\"].sum()/df3.shape[0]"
   ]
  },
  {
   "cell_type": "code",
   "execution_count": 86,
   "metadata": {},
   "outputs": [],
   "source": [
    "#or\n",
    "sample2_4=df3.sample(25,random_state=0)"
   ]
  },
  {
   "cell_type": "code",
   "execution_count": 83,
   "metadata": {},
   "outputs": [],
   "source": [
    "df4=df[(df[\"0-60 MPH Time (seconds)\"]>=4) & (df[\"0-60 MPH Time (seconds)\"]<=6)]"
   ]
  },
  {
   "cell_type": "code",
   "execution_count": 85,
   "metadata": {},
   "outputs": [
    {
     "data": {
      "text/plain": [
       "89839.00523560209"
      ]
     },
     "execution_count": 85,
     "metadata": {},
     "output_type": "execute_result"
    }
   ],
   "source": [
    "df4[\"Price\"].sum()/df4.shape[0]"
   ]
  },
  {
   "cell_type": "code",
   "execution_count": 87,
   "metadata": {},
   "outputs": [],
   "source": [
    "#or\n",
    "sample4_6=df4.sample(25,random_state=0)"
   ]
  },
  {
   "cell_type": "code",
   "execution_count": null,
   "metadata": {},
   "outputs": [],
   "source": [
    "#null hypothesis= variance equal\n",
    "#alternative hypothesis = not equal\n"
   ]
  },
  {
   "cell_type": "code",
   "execution_count": 88,
   "metadata": {},
   "outputs": [
    {
     "name": "stdout",
     "output_type": "stream",
     "text": [
      "18352867907.273335\n"
     ]
    }
   ],
   "source": [
    "print(sample2_4[\"Price\"].var())"
   ]
  },
  {
   "cell_type": "code",
   "execution_count": 89,
   "metadata": {},
   "outputs": [
    {
     "name": "stdout",
     "output_type": "stream",
     "text": [
      "5289443343.75\n"
     ]
    }
   ],
   "source": [
    "print(sample4_6.Price.var())"
   ]
  },
  {
   "cell_type": "code",
   "execution_count": 79,
   "metadata": {},
   "outputs": [
    {
     "data": {
      "text/html": [
       "<div>\n",
       "<style scoped>\n",
       "    .dataframe tbody tr th:only-of-type {\n",
       "        vertical-align: middle;\n",
       "    }\n",
       "\n",
       "    .dataframe tbody tr th {\n",
       "        vertical-align: top;\n",
       "    }\n",
       "\n",
       "    .dataframe thead th {\n",
       "        text-align: right;\n",
       "    }\n",
       "</style>\n",
       "<table border=\"1\" class=\"dataframe\">\n",
       "  <thead>\n",
       "    <tr style=\"text-align: right;\">\n",
       "      <th></th>\n",
       "      <th>Car Make</th>\n",
       "      <th>Car Model</th>\n",
       "      <th>Year</th>\n",
       "      <th>Engine Size (L)</th>\n",
       "      <th>Horsepower</th>\n",
       "      <th>Torque (lb-ft)</th>\n",
       "      <th>0-60 MPH Time (seconds)</th>\n",
       "      <th>Price</th>\n",
       "    </tr>\n",
       "  </thead>\n",
       "  <tbody>\n",
       "    <tr>\n",
       "      <th>0</th>\n",
       "      <td>Porsche</td>\n",
       "      <td>911</td>\n",
       "      <td>2022</td>\n",
       "      <td>3.0</td>\n",
       "      <td>379</td>\n",
       "      <td>331</td>\n",
       "      <td>4.0</td>\n",
       "      <td>101200</td>\n",
       "    </tr>\n",
       "    <tr>\n",
       "      <th>1</th>\n",
       "      <td>Lamborghini</td>\n",
       "      <td>Huracan</td>\n",
       "      <td>2021</td>\n",
       "      <td>5.2</td>\n",
       "      <td>630</td>\n",
       "      <td>443</td>\n",
       "      <td>2.8</td>\n",
       "      <td>274390</td>\n",
       "    </tr>\n",
       "    <tr>\n",
       "      <th>2</th>\n",
       "      <td>Ferrari</td>\n",
       "      <td>488 GTB</td>\n",
       "      <td>2022</td>\n",
       "      <td>3.9</td>\n",
       "      <td>661</td>\n",
       "      <td>561</td>\n",
       "      <td>3.0</td>\n",
       "      <td>333750</td>\n",
       "    </tr>\n",
       "    <tr>\n",
       "      <th>3</th>\n",
       "      <td>Audi</td>\n",
       "      <td>R8</td>\n",
       "      <td>2022</td>\n",
       "      <td>5.2</td>\n",
       "      <td>562</td>\n",
       "      <td>406</td>\n",
       "      <td>3.2</td>\n",
       "      <td>142700</td>\n",
       "    </tr>\n",
       "    <tr>\n",
       "      <th>4</th>\n",
       "      <td>McLaren</td>\n",
       "      <td>720S</td>\n",
       "      <td>2021</td>\n",
       "      <td>4.0</td>\n",
       "      <td>710</td>\n",
       "      <td>568</td>\n",
       "      <td>2.7</td>\n",
       "      <td>298000</td>\n",
       "    </tr>\n",
       "  </tbody>\n",
       "</table>\n",
       "</div>"
      ],
      "text/plain": [
       "      Car Make Car Model  Year  Engine Size (L)  Horsepower  Torque (lb-ft)  \\\n",
       "0      Porsche       911  2022              3.0         379             331   \n",
       "1  Lamborghini   Huracan  2021              5.2         630             443   \n",
       "2      Ferrari   488 GTB  2022              3.9         661             561   \n",
       "3         Audi        R8  2022              5.2         562             406   \n",
       "4      McLaren      720S  2021              4.0         710             568   \n",
       "\n",
       "   0-60 MPH Time (seconds)   Price  \n",
       "0                      4.0  101200  \n",
       "1                      2.8  274390  \n",
       "2                      3.0  333750  \n",
       "3                      3.2  142700  \n",
       "4                      2.7  298000  "
      ]
     },
     "execution_count": 79,
     "metadata": {},
     "output_type": "execute_result"
    }
   ],
   "source": [
    "df.head()"
   ]
  },
  {
   "cell_type": "code",
   "execution_count": 90,
   "metadata": {},
   "outputs": [
    {
     "name": "stdout",
     "output_type": "stream",
     "text": [
      "2.1491284236992008 0.038275630486490235\n"
     ]
    }
   ],
   "source": [
    "from scipy.stats import ttest_ind\n",
    "t_stats,p_value=ttest_ind(sample2_4.Price,sample4_6.Price,equal_var=False)\n",
    "print(t_stats,p_value)\n"
   ]
  },
  {
   "cell_type": "code",
   "execution_count": null,
   "metadata": {},
   "outputs": [],
   "source": [
    "#pvalue is less than 0.05 so, we reject the null hypothesis.\n",
    "# Mean price of sports cars who takes time to accelerate from 2 to 4 seconds\n",
    "# is not the same as that for those cars for who accelerate for 4 to 6 seconds "
   ]
  },
  {
   "cell_type": "code",
   "execution_count": 93,
   "metadata": {},
   "outputs": [
    {
     "name": "stdout",
     "output_type": "stream",
     "text": [
      "9.376528732023247e-09\n"
     ]
    }
   ],
   "source": [
    "#5) Given that the standard deviation of the populations is known. \n",
    "# Perform the best suitable test for previous problem statement\n",
    "\n",
    "import random\n",
    "from statsmodels.stats.weightstats import ztest\n",
    "car2_4=df[(df[\"0-60 MPH Time (seconds)\"]>=2) & (df[\"0-60 MPH Time (seconds)\"]<=4)]\n",
    "car4_6=df[(df[\"0-60 MPH Time (seconds)\"]>=4) & (df[\"0-60 MPH Time (seconds)\"]<=6)]\n",
    "car2_4=car2_4[\"Price\"].to_list()\n",
    "car4_6=car4_6[\"Price\"].to_list()\n",
    "z_test,p_value=ztest(car2_4,car4_6)\n",
    "print(p_value)"
   ]
  },
  {
   "cell_type": "code",
   "execution_count": null,
   "metadata": {},
   "outputs": [],
   "source": [
    "# p - value is less than 0.05 reject null hypothesis. mean price are not equal"
   ]
  }
 ],
 "metadata": {
  "kernelspec": {
   "display_name": "base",
   "language": "python",
   "name": "python3"
  },
  "language_info": {
   "codemirror_mode": {
    "name": "ipython",
    "version": 3
   },
   "file_extension": ".py",
   "mimetype": "text/x-python",
   "name": "python",
   "nbconvert_exporter": "python",
   "pygments_lexer": "ipython3",
   "version": "3.9.12"
  },
  "orig_nbformat": 4,
  "vscode": {
   "interpreter": {
    "hash": "f58e3a875711ee6b1be6593f805f5c4832991de6201f55b54b226b864ab87a21"
   }
  }
 },
 "nbformat": 4,
 "nbformat_minor": 2
}
